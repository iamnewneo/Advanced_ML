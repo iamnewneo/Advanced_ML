{
 "cells": [
  {
   "cell_type": "code",
   "execution_count": 1,
   "metadata": {
    "collapsed": true
   },
   "outputs": [],
   "source": [
    "import matplotlib.pyplot as plt\n",
    "import numpy as np\n",
    "%matplotlib inline"
   ]
  },
  {
   "cell_type": "code",
   "execution_count": 2,
   "metadata": {
    "collapsed": true
   },
   "outputs": [],
   "source": [
    "from sklearn.datasets import load_iris\n",
    "\n",
    "iris = load_iris()\n",
    "X, y = iris.data, iris.target"
   ]
  },
  {
   "cell_type": "code",
   "execution_count": 3,
   "metadata": {
    "collapsed": true
   },
   "outputs": [],
   "source": [
    "from sklearn.svm import SVC\n",
    "\n",
    "Cs = [0.001,0.01,0.1,1,10]\n",
    "gammas = [0.001,0.01,0.1,1]"
   ]
  },
  {
   "cell_type": "code",
   "execution_count": 4,
   "metadata": {
    "collapsed": true
   },
   "outputs": [],
   "source": [
    "from sklearn.grid_search import GridSearchCV\n",
    "\n",
    "param_grid = {'C': Cs, 'gamma':gammas}"
   ]
  },
  {
   "cell_type": "code",
   "execution_count": 6,
   "metadata": {
    "collapsed": false
   },
   "outputs": [],
   "source": [
    "grid_search = GridSearchCV(SVC(), param_grid, verbose=3, cv=5)"
   ]
  },
  {
   "cell_type": "code",
   "execution_count": 7,
   "metadata": {
    "collapsed": false
   },
   "outputs": [
    {
     "name": "stdout",
     "output_type": "stream",
     "text": [
      "Fitting 5 folds for each of 20 candidates, totalling 100 fits\n",
      "[CV] gamma=0.001, C=0.001 ............................................\n",
      "[CV] ................... gamma=0.001, C=0.001, score=0.866667 -   0.0s\n",
      "[CV] gamma=0.001, C=0.001 ............................................\n",
      "[CV] ................... gamma=0.001, C=0.001, score=0.966667 -   0.0s\n",
      "[CV] gamma=0.001, C=0.001 ............................................\n",
      "[CV] ................... gamma=0.001, C=0.001, score=0.833333 -   0.0s\n",
      "[CV] gamma=0.001, C=0.001 ............................................\n",
      "[CV] ................... gamma=0.001, C=0.001, score=0.966667 -   0.0s\n",
      "[CV] gamma=0.001, C=0.001 ............................................\n",
      "[CV] ................... gamma=0.001, C=0.001, score=0.933333 -   0.0s\n",
      "[CV] gamma=0.01, C=0.001 .............................................\n",
      "[CV] .................... gamma=0.01, C=0.001, score=0.866667 -   0.0s\n",
      "[CV] gamma=0.01, C=0.001 .............................................\n",
      "[CV] .................... gamma=0.01, C=0.001, score=0.966667 -   0.0s\n",
      "[CV] gamma=0.01, C=0.001 .............................................\n",
      "[CV] .................... gamma=0.01, C=0.001, score=0.833333 -   0.0s\n",
      "[CV] gamma=0.01, C=0.001 .............................................\n",
      "[CV] .................... gamma=0.01, C=0.001, score=0.966667 -   0.0s\n",
      "[CV] gamma=0.01, C=0.001 .............................................\n",
      "[CV] .................... gamma=0.01, C=0.001, score=0.933333 -   0.0s\n",
      "[CV] gamma=0.1, C=0.001 ..............................................\n",
      "[CV] ..................... gamma=0.1, C=0.001, score=0.900000 -   0.0s\n",
      "[CV] gamma=0.1, C=0.001 ..............................................\n",
      "[CV] ..................... gamma=0.1, C=0.001, score=0.933333 -   0.0s\n",
      "[CV] gamma=0.1, C=0.001 ..............................................\n",
      "[CV] ..................... gamma=0.1, C=0.001, score=0.866667 -   0.0s\n",
      "[CV] gamma=0.1, C=0.001 ..............................................\n",
      "[CV] ..................... gamma=0.1, C=0.001, score=0.933333 -   0.0s\n",
      "[CV] gamma=0.1, C=0.001 ..............................................\n",
      "[CV] ..................... gamma=0.1, C=0.001, score=0.933333 -   0.0s\n",
      "[CV] gamma=1, C=0.001 ................................................\n",
      "[CV] ....................... gamma=1, C=0.001, score=0.933333 -   0.0s\n",
      "[CV] gamma=1, C=0.001 ................................................\n",
      "[CV] ....................... gamma=1, C=0.001, score=0.966667 -   0.0s\n",
      "[CV] gamma=1, C=0.001 ................................................\n",
      "[CV] ....................... gamma=1, C=0.001, score=0.966667 -   0.0s\n",
      "[CV] gamma=1, C=0.001 ................................................\n",
      "[CV] ....................... gamma=1, C=0.001, score=0.933333 -   0.0s\n",
      "[CV] gamma=1, C=0.001 ................................................\n",
      "[CV] ....................... gamma=1, C=0.001, score=1.000000 -   0.0s\n",
      "[CV] gamma=0.001, C=0.01 .............................................\n",
      "[CV] .................... gamma=0.001, C=0.01, score=0.866667 -   0.0s\n",
      "[CV] gamma=0.001, C=0.01 .............................................\n",
      "[CV] .................... gamma=0.001, C=0.01, score=0.966667 -   0.0s\n",
      "[CV] gamma=0.001, C=0.01 .............................................\n",
      "[CV] .................... gamma=0.001, C=0.01, score=0.833333 -   0.0s\n",
      "[CV] gamma=0.001, C=0.01 .............................................\n",
      "[CV] .................... gamma=0.001, C=0.01, score=0.966667 -   0.0s\n",
      "[CV] gamma=0.001, C=0.01 .............................................\n",
      "[CV] .................... gamma=0.001, C=0.01, score=0.933333 -   0.0s\n",
      "[CV] gamma=0.01, C=0.01 ..............................................\n",
      "[CV] ..................... gamma=0.01, C=0.01, score=0.866667 -   0.0s\n",
      "[CV] gamma=0.01, C=0.01 ..............................................\n",
      "[CV] ..................... gamma=0.01, C=0.01, score=0.966667 -   0.0s\n",
      "[CV] gamma=0.01, C=0.01 ..............................................\n",
      "[CV] ..................... gamma=0.01, C=0.01, score=0.833333 -   0.0s\n",
      "[CV] gamma=0.01, C=0.01 ..............................................\n",
      "[CV] ..................... gamma=0.01, C=0.01, score=0.966667 -   0.0s\n",
      "[CV] gamma=0.01, C=0.01 ..............................................\n",
      "[CV] ..................... gamma=0.01, C=0.01, score=0.933333 -   0.0s\n",
      "[CV] gamma=0.1, C=0.01 ...............................................\n",
      "[CV] ...................... gamma=0.1, C=0.01, score=0.900000 -   0.0s\n",
      "[CV] gamma=0.1, C=0.01 ...............................................\n"
     ]
    },
    {
     "name": "stderr",
     "output_type": "stream",
     "text": [
      "[Parallel(n_jobs=1)]: Done  31 tasks       | elapsed:    0.3s\n"
     ]
    },
    {
     "name": "stdout",
     "output_type": "stream",
     "text": [
      "[CV] ...................... gamma=0.1, C=0.01, score=0.933333 -   0.0s\n",
      "[CV] gamma=0.1, C=0.01 ...............................................\n",
      "[CV] ...................... gamma=0.1, C=0.01, score=0.866667 -   0.0s\n",
      "[CV] gamma=0.1, C=0.01 ...............................................\n",
      "[CV] ...................... gamma=0.1, C=0.01, score=0.933333 -   0.0s\n",
      "[CV] gamma=0.1, C=0.01 ...............................................\n",
      "[CV] ...................... gamma=0.1, C=0.01, score=0.933333 -   0.0s\n",
      "[CV] gamma=1, C=0.01 .................................................\n",
      "[CV] ........................ gamma=1, C=0.01, score=0.933333 -   0.0s\n",
      "[CV] gamma=1, C=0.01 .................................................\n",
      "[CV] ........................ gamma=1, C=0.01, score=0.966667 -   0.0s\n",
      "[CV] gamma=1, C=0.01 .................................................\n",
      "[CV] ........................ gamma=1, C=0.01, score=0.966667 -   0.0s\n",
      "[CV] gamma=1, C=0.01 .................................................\n",
      "[CV] ........................ gamma=1, C=0.01, score=0.933333 -   0.0s\n",
      "[CV] gamma=1, C=0.01 .................................................\n",
      "[CV] ........................ gamma=1, C=0.01, score=1.000000 -   0.0s\n",
      "[CV] gamma=0.001, C=0.1 ..............................................\n",
      "[CV] ..................... gamma=0.001, C=0.1, score=0.866667 -   0.0s\n",
      "[CV] gamma=0.001, C=0.1 ..............................................\n",
      "[CV] ..................... gamma=0.001, C=0.1, score=0.966667 -   0.0s\n",
      "[CV] gamma=0.001, C=0.1 ..............................................\n",
      "[CV] ..................... gamma=0.001, C=0.1, score=0.833333 -   0.0s\n",
      "[CV] gamma=0.001, C=0.1 ..............................................\n",
      "[CV] ..................... gamma=0.001, C=0.1, score=0.966667 -   0.0s\n",
      "[CV] gamma=0.001, C=0.1 ..............................................\n",
      "[CV] ..................... gamma=0.001, C=0.1, score=0.933333 -   0.0s\n",
      "[CV] gamma=0.01, C=0.1 ...............................................\n",
      "[CV] ...................... gamma=0.01, C=0.1, score=0.866667 -   0.0s\n",
      "[CV] gamma=0.01, C=0.1 ...............................................\n",
      "[CV] ...................... gamma=0.01, C=0.1, score=0.966667 -   0.0s\n",
      "[CV] gamma=0.01, C=0.1 ...............................................\n",
      "[CV] ...................... gamma=0.01, C=0.1, score=0.833333 -   0.0s\n",
      "[CV] gamma=0.01, C=0.1 ...............................................\n",
      "[CV] ...................... gamma=0.01, C=0.1, score=0.966667 -   0.0s\n",
      "[CV] gamma=0.01, C=0.1 ...............................................\n",
      "[CV] ...................... gamma=0.01, C=0.1, score=0.933333 -   0.0s\n",
      "[CV] gamma=0.1, C=0.1 ................................................\n",
      "[CV] ....................... gamma=0.1, C=0.1, score=0.900000 -   0.0s\n",
      "[CV] gamma=0.1, C=0.1 ................................................\n",
      "[CV] ....................... gamma=0.1, C=0.1, score=0.933333 -   0.0s\n",
      "[CV] gamma=0.1, C=0.1 ................................................\n",
      "[CV] ....................... gamma=0.1, C=0.1, score=0.900000 -   0.0s\n",
      "[CV] gamma=0.1, C=0.1 ................................................\n",
      "[CV] ....................... gamma=0.1, C=0.1, score=0.933333 -   0.0s\n",
      "[CV] gamma=0.1, C=0.1 ................................................\n",
      "[CV] ....................... gamma=0.1, C=0.1, score=0.933333 -   0.0s\n",
      "[CV] gamma=1, C=0.1 ..................................................\n",
      "[CV] ......................... gamma=1, C=0.1, score=0.933333 -   0.0s\n",
      "[CV] gamma=1, C=0.1 ..................................................\n",
      "[CV] ......................... gamma=1, C=0.1, score=0.966667 -   0.0s\n",
      "[CV] gamma=1, C=0.1 ..................................................\n",
      "[CV] ......................... gamma=1, C=0.1, score=0.933333 -   0.0s\n",
      "[CV] gamma=1, C=0.1 ..................................................\n",
      "[CV] ......................... gamma=1, C=0.1, score=0.966667 -   0.0s\n",
      "[CV] gamma=1, C=0.1 ..................................................\n",
      "[CV] ......................... gamma=1, C=0.1, score=1.000000 -   0.0s\n",
      "[CV] gamma=0.001, C=1 ................................................\n",
      "[CV] ....................... gamma=0.001, C=1, score=0.866667 -   0.0s\n",
      "[CV] gamma=0.001, C=1 ................................................\n",
      "[CV] ....................... gamma=0.001, C=1, score=0.966667 -   0.0s\n",
      "[CV] gamma=0.001, C=1 ................................................\n",
      "[CV] ....................... gamma=0.001, C=1, score=0.833333 -   0.0s\n",
      "[CV] gamma=0.001, C=1 ................................................\n",
      "[CV] ....................... gamma=0.001, C=1, score=0.966667 -   0.0s\n",
      "[CV] gamma=0.001, C=1 ................................................\n",
      "[CV] ....................... gamma=0.001, C=1, score=0.933333 -   0.0s\n",
      "[CV] gamma=0.01, C=1 .................................................\n",
      "[CV] ........................ gamma=0.01, C=1, score=0.900000 -   0.0s\n",
      "[CV] gamma=0.01, C=1 .................................................\n",
      "[CV] ........................ gamma=0.01, C=1, score=0.966667 -   0.0s\n",
      "[CV] gamma=0.01, C=1 .................................................\n",
      "[CV] ........................ gamma=0.01, C=1, score=0.866667 -   0.0s\n",
      "[CV] gamma=0.01, C=1 .................................................\n",
      "[CV] ........................ gamma=0.01, C=1, score=0.933333 -   0.0s\n",
      "[CV] gamma=0.01, C=1 .................................................\n",
      "[CV] ........................ gamma=0.01, C=1, score=1.000000 -   0.0s\n",
      "[CV] gamma=0.1, C=1 ..................................................\n",
      "[CV] ......................... gamma=0.1, C=1, score=0.966667 -   0.0s\n",
      "[CV] gamma=0.1, C=1 ..................................................\n",
      "[CV] ......................... gamma=0.1, C=1, score=1.000000 -   0.0s\n",
      "[CV] gamma=0.1, C=1 ..................................................\n",
      "[CV] ......................... gamma=0.1, C=1, score=0.966667 -   0.0s\n",
      "[CV] gamma=0.1, C=1 ..................................................\n",
      "[CV] ......................... gamma=0.1, C=1, score=0.966667 -   0.0s\n",
      "[CV] gamma=0.1, C=1 ..................................................\n",
      "[CV] ......................... gamma=0.1, C=1, score=1.000000 -   0.0s\n",
      "[CV] gamma=1, C=1 ....................................................\n",
      "[CV] ........................... gamma=1, C=1, score=0.966667 -   0.0s\n",
      "[CV] gamma=1, C=1 ....................................................\n",
      "[CV] ........................... gamma=1, C=1, score=1.000000 -   0.0s\n",
      "[CV] gamma=1, C=1 ....................................................\n",
      "[CV] ........................... gamma=1, C=1, score=0.900000 -   0.0s\n",
      "[CV] gamma=1, C=1 ....................................................\n",
      "[CV] ........................... gamma=1, C=1, score=0.966667 -   0.0s\n",
      "[CV] gamma=1, C=1 ....................................................\n",
      "[CV] ........................... gamma=1, C=1, score=1.000000 -   0.0s\n",
      "[CV] gamma=0.001, C=10 ...............................................\n",
      "[CV] ...................... gamma=0.001, C=10, score=0.900000 -   0.0s\n",
      "[CV] gamma=0.001, C=10 ...............................................\n",
      "[CV] ...................... gamma=0.001, C=10, score=0.966667 -   0.0s\n",
      "[CV] gamma=0.001, C=10 ...............................................\n",
      "[CV] ...................... gamma=0.001, C=10, score=0.866667 -   0.0s\n",
      "[CV] gamma=0.001, C=10 ...............................................\n",
      "[CV] ...................... gamma=0.001, C=10, score=0.933333 -   0.0s\n",
      "[CV] gamma=0.001, C=10 ...............................................\n",
      "[CV] ...................... gamma=0.001, C=10, score=1.000000 -   0.0s\n",
      "[CV] gamma=0.01, C=10 ................................................\n",
      "[CV] ....................... gamma=0.01, C=10, score=0.966667 -   0.0s\n",
      "[CV] gamma=0.01, C=10 ................................................\n",
      "[CV] ....................... gamma=0.01, C=10, score=1.000000 -   0.0s\n",
      "[CV] gamma=0.01, C=10 ................................................\n",
      "[CV] ....................... gamma=0.01, C=10, score=0.966667 -   0.0s\n",
      "[CV] gamma=0.01, C=10 ................................................\n",
      "[CV] ....................... gamma=0.01, C=10, score=0.966667 -   0.0s\n",
      "[CV] gamma=0.01, C=10 ................................................\n",
      "[CV] ....................... gamma=0.01, C=10, score=1.000000 -   0.0s\n",
      "[CV] gamma=0.1, C=10 .................................................\n",
      "[CV] ........................ gamma=0.1, C=10, score=0.966667 -   0.0s\n",
      "[CV] gamma=0.1, C=10 .................................................\n",
      "[CV] ........................ gamma=0.1, C=10, score=1.000000 -   0.0s\n",
      "[CV] gamma=0.1, C=10 .................................................\n",
      "[CV] ........................ gamma=0.1, C=10, score=0.966667 -   0.0s\n",
      "[CV] gamma=0.1, C=10 .................................................\n",
      "[CV] ........................ gamma=0.1, C=10, score=0.966667 -   0.0s\n",
      "[CV] gamma=0.1, C=10 .................................................\n",
      "[CV] ........................ gamma=0.1, C=10, score=1.000000 -   0.0s\n",
      "[CV] gamma=1, C=10 ...................................................\n",
      "[CV] .......................... gamma=1, C=10, score=0.966667 -   0.0s\n",
      "[CV] gamma=1, C=10 ...................................................\n",
      "[CV] .......................... gamma=1, C=10, score=0.966667 -   0.0s\n",
      "[CV] gamma=1, C=10 ...................................................\n",
      "[CV] .......................... gamma=1, C=10, score=0.900000 -   0.0s\n",
      "[CV] gamma=1, C=10 ...................................................\n",
      "[CV] .......................... gamma=1, C=10, score=0.933333 -   0.0s\n",
      "[CV] gamma=1, C=10 ...................................................\n",
      "[CV] .......................... gamma=1, C=10, score=1.000000 -   0.0s\n"
     ]
    },
    {
     "name": "stderr",
     "output_type": "stream",
     "text": [
      "[Parallel(n_jobs=1)]: Done 100 out of 100 | elapsed:    1.0s finished\n"
     ]
    },
    {
     "data": {
      "text/plain": [
       "GridSearchCV(cv=5, error_score='raise',\n",
       "       estimator=SVC(C=1.0, cache_size=200, class_weight=None, coef0=0.0,\n",
       "  decision_function_shape=None, degree=3, gamma='auto', kernel='rbf',\n",
       "  max_iter=-1, probability=False, random_state=None, shrinking=True,\n",
       "  tol=0.001, verbose=False),\n",
       "       fit_params={}, iid=True, n_jobs=1,\n",
       "       param_grid={'gamma': [0.001, 0.01, 0.1, 1], 'C': [0.001, 0.01, 0.1, 1, 10]},\n",
       "       pre_dispatch='2*n_jobs', refit=True, scoring=None, verbose=3)"
      ]
     },
     "execution_count": 7,
     "metadata": {},
     "output_type": "execute_result"
    }
   ],
   "source": [
    "grid_search.fit(X,y)"
   ]
  },
  {
   "cell_type": "code",
   "execution_count": 8,
   "metadata": {
    "collapsed": false
   },
   "outputs": [
    {
     "data": {
      "text/plain": [
       "{'C': 1, 'gamma': 0.1}"
      ]
     },
     "execution_count": 8,
     "metadata": {},
     "output_type": "execute_result"
    }
   ],
   "source": [
    "grid_search.best_params_"
   ]
  },
  {
   "cell_type": "code",
   "execution_count": 9,
   "metadata": {
    "collapsed": false
   },
   "outputs": [
    {
     "data": {
      "text/plain": [
       "0.97999999999999998"
      ]
     },
     "execution_count": 9,
     "metadata": {},
     "output_type": "execute_result"
    }
   ],
   "source": [
    "grid_search.best_score_"
   ]
  },
  {
   "cell_type": "code",
   "execution_count": 10,
   "metadata": {
    "collapsed": false
   },
   "outputs": [
    {
     "data": {
      "text/plain": [
       "([<matplotlib.axis.XTick at 0x1e80cf9e940>,\n",
       "  <matplotlib.axis.XTick at 0x1e80cf840b8>,\n",
       "  <matplotlib.axis.XTick at 0x1e80d32e400>,\n",
       "  <matplotlib.axis.XTick at 0x1e80d38f550>,\n",
       "  <matplotlib.axis.XTick at 0x1e80cf89dd8>],\n",
       " <a list of 5 Text xticklabel objects>)"
      ]
     },
     "execution_count": 10,
     "metadata": {},
     "output_type": "execute_result"
    },
    {
     "data": {
      "image/png": "[encoded data removed]",
      "text/plain": [
       "<matplotlib.figure.Figure at 0x1e80cf7c1d0>"
      ]
     },
     "metadata": {},
     "output_type": "display_data"
    }
   ],
   "source": [
    "#extract just the scores\n",
    "\n",
    "scores = [x[1] for x in grid_search.grid_scores_]\n",
    "scores = np.array(scores).reshape(5,4)\n",
    "\n",
    "plt.matshow(scores)\n",
    "plt.xlabel('gamma')\n",
    "plt.ylabel('C')\n",
    "plt.colorbar()\n",
    "plt.xticks(np.arange(4), param_grid['gamma'])\n",
    "plt.xticks(np.arange(5), param_grid['C'])"
   ]
  },
  {
   "cell_type": "code",
   "execution_count": 12,
   "metadata": {
    "collapsed": false
   },
   "outputs": [],
   "source": [
    "from sklearn.cross_validation import train_test_split\n",
    "\n",
    "X_train, X_test, y_train, y_test = train_test_split(X, y)"
   ]
  },
  {
   "cell_type": "code",
   "execution_count": 13,
   "metadata": {
    "collapsed": false
   },
   "outputs": [
    {
     "data": {
      "text/plain": [
       "GridSearchCV(cv=5, error_score='raise',\n",
       "       estimator=SVC(C=1.0, cache_size=200, class_weight=None, coef0=0.0,\n",
       "  decision_function_shape=None, degree=3, gamma='auto', kernel='rbf',\n",
       "  max_iter=-1, probability=False, random_state=None, shrinking=True,\n",
       "  tol=0.001, verbose=False),\n",
       "       fit_params={}, iid=True, n_jobs=1,\n",
       "       param_grid={'gamma': [0.001, 0.01, 0.1, 1], 'C': [0.001, 0.01, 0.1, 1, 10]},\n",
       "       pre_dispatch='2*n_jobs', refit=True, scoring=None, verbose=0)"
      ]
     },
     "execution_count": 13,
     "metadata": {},
     "output_type": "execute_result"
    }
   ],
   "source": [
    "grid_search = GridSearchCV(SVC(), param_grid, cv=5)\n",
    "grid_search.fit(X_train, y_train)"
   ]
  },
  {
   "cell_type": "code",
   "execution_count": 15,
   "metadata": {
    "collapsed": false
   },
   "outputs": [
    {
     "data": {
      "text/plain": [
       "0.89473684210526316"
      ]
     },
     "execution_count": 15,
     "metadata": {},
     "output_type": "execute_result"
    }
   ],
   "source": [
    "grid_search.score(X_test, y_test)"
   ]
  },
  {
   "cell_type": "markdown",
   "metadata": {},
   "source": [
    "## Nested Cross-Validation"
   ]
  },
  {
   "cell_type": "code",
   "execution_count": 18,
   "metadata": {
    "collapsed": false
   },
   "outputs": [
    {
     "data": {
      "text/plain": [
       "array([ 0.96666667,  1.        ,  0.96666667,  0.96666667,  1.        ])"
      ]
     },
     "execution_count": 18,
     "metadata": {},
     "output_type": "execute_result"
    }
   ],
   "source": [
    "from sklearn.cross_validation import cross_val_score\n",
    "cross_val_score(grid_search, X, y, cv=5)"
   ]
  },
  {
   "cell_type": "code",
   "execution_count": null,
   "metadata": {
    "collapsed": true
   },
   "outputs": [],
   "source": []
  }
 ],
 "metadata": {
  "kernelspec": {
   "display_name": "Python 3",
   "language": "python",
   "name": "python3"
  },
  "language_info": {
   "codemirror_mode": {
    "name": "ipython",
    "version": 3
   },
   "file_extension": ".py",
   "mimetype": "text/x-python",
   "name": "python",
   "nbconvert_exporter": "python",
   "pygments_lexer": "ipython3",
   "version": "3.5.2"
  }
 },
 "nbformat": 4,
 "nbformat_minor": 0
}
